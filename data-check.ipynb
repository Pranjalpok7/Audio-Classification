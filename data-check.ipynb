{
 "cells": [
  {
   "cell_type": "code",
   "execution_count": null,
   "id": "5b1857de-f3d8-467c-b669-34ed2afa2769",
   "metadata": {},
   "outputs": [],
   "source": []
  },
  {
   "cell_type": "code",
   "execution_count": 3,
   "id": "511f9299-beb3-4611-9126-824e06da8baa",
   "metadata": {},
   "outputs": [
    {
     "name": "stdout",
     "output_type": "stream",
     "text": [
      "/\n",
      "//features\n",
      "    Dataset shape: (7780, 128), dtype: float32\n",
      "//labels\n",
      "    Dataset shape: (7780,), dtype: int64\n"
     ]
    }
   ],
   "source": [
    "import h5py\n",
    "\n",
    "# Replace 'your_file.hdf5' with the path to your HDF5 file\n",
    "file_path = 'data_vggish_fixed_knn/raw/TF_vggish_2023.hdf5'\n",
    "\n",
    "# Open the HDF5 file\n",
    "with h5py.File(file_path, 'r') as f:\n",
    "    # Function to recursively print the structure\n",
    "    def print_structure(name, obj):\n",
    "        print(name)\n",
    "        if isinstance(obj, h5py.Group):\n",
    "            for key in obj.keys():\n",
    "                print_structure(f\"{name}/{key}\", obj[key])\n",
    "        elif isinstance(obj, h5py.Dataset):\n",
    "            print(f\"    Dataset shape: {obj.shape}, dtype: {obj.dtype}\")\n",
    "\n",
    "    # Start printing the structure from the root\n",
    "    print_structure('/', f)"
   ]
  },
  {
   "cell_type": "code",
   "execution_count": null,
   "id": "afd934dc-714d-4fee-bb45-5ca7d7ddb78c",
   "metadata": {},
   "outputs": [],
   "source": []
  }
 ],
 "metadata": {
  "kernelspec": {
   "display_name": "Python 3 (ipykernel)",
   "language": "python",
   "name": "python3"
  },
  "language_info": {
   "codemirror_mode": {
    "name": "ipython",
    "version": 3
   },
   "file_extension": ".py",
   "mimetype": "text/x-python",
   "name": "python",
   "nbconvert_exporter": "python",
   "pygments_lexer": "ipython3",
   "version": "3.11.11"
  }
 },
 "nbformat": 4,
 "nbformat_minor": 5
}
